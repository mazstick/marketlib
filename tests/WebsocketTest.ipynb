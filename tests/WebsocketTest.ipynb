{
 "cells": [
  {
   "cell_type": "code",
   "execution_count": 1,
   "metadata": {},
   "outputs": [],
   "source": [
    "import matplotlib.pyplot as plt\n",
    "import pandas as pd"
   ]
  },
  {
   "cell_type": "code",
   "execution_count": 33,
   "metadata": {},
   "outputs": [],
   "source": [
    "coinex_btc = pd.read_csv(\"../coinex_BTCUSDT.csv\")\n",
    "binance_btc = pd.read_csv(\"../binance_BTCUSDT.csv\")"
   ]
  },
  {
   "cell_type": "code",
   "execution_count": 34,
   "metadata": {},
   "outputs": [],
   "source": [
    "coinex_btc[\"timestamp\"] = pd.to_datetime(coinex_btc[\"timestamp\"], unit=\"s\")"
   ]
  },
  {
   "cell_type": "code",
   "execution_count": 35,
   "metadata": {},
   "outputs": [
    {
     "data": {
      "text/html": [
       "<div>\n",
       "<style scoped>\n",
       "    .dataframe tbody tr th:only-of-type {\n",
       "        vertical-align: middle;\n",
       "    }\n",
       "\n",
       "    .dataframe tbody tr th {\n",
       "        vertical-align: top;\n",
       "    }\n",
       "\n",
       "    .dataframe thead th {\n",
       "        text-align: right;\n",
       "    }\n",
       "</style>\n",
       "<table border=\"1\" class=\"dataframe\">\n",
       "  <thead>\n",
       "    <tr style=\"text-align: right;\">\n",
       "      <th></th>\n",
       "      <th>timestamp</th>\n",
       "      <th>price</th>\n",
       "    </tr>\n",
       "  </thead>\n",
       "  <tbody>\n",
       "    <tr>\n",
       "      <th>0</th>\n",
       "      <td>2025-08-09 08:40:58.466971397</td>\n",
       "      <td>116938.02</td>\n",
       "    </tr>\n",
       "    <tr>\n",
       "      <th>1</th>\n",
       "      <td>2025-08-09 08:40:58.867064476</td>\n",
       "      <td>116938.02</td>\n",
       "    </tr>\n",
       "    <tr>\n",
       "      <th>2</th>\n",
       "      <td>2025-08-09 08:41:01.927594423</td>\n",
       "      <td>116938.03</td>\n",
       "    </tr>\n",
       "    <tr>\n",
       "      <th>3</th>\n",
       "      <td>2025-08-09 08:41:04.900663614</td>\n",
       "      <td>116938.03</td>\n",
       "    </tr>\n",
       "    <tr>\n",
       "      <th>4</th>\n",
       "      <td>2025-08-09 08:41:07.889091492</td>\n",
       "      <td>116938.02</td>\n",
       "    </tr>\n",
       "    <tr>\n",
       "      <th>...</th>\n",
       "      <td>...</td>\n",
       "      <td>...</td>\n",
       "    </tr>\n",
       "    <tr>\n",
       "      <th>27784</th>\n",
       "      <td>2025-08-10 08:40:28.868560314</td>\n",
       "      <td>118115.49</td>\n",
       "    </tr>\n",
       "    <tr>\n",
       "      <th>27785</th>\n",
       "      <td>2025-08-10 08:40:31.868561983</td>\n",
       "      <td>118115.49</td>\n",
       "    </tr>\n",
       "    <tr>\n",
       "      <th>27786</th>\n",
       "      <td>2025-08-10 08:40:34.871923685</td>\n",
       "      <td>118115.49</td>\n",
       "    </tr>\n",
       "    <tr>\n",
       "      <th>27787</th>\n",
       "      <td>2025-08-10 08:40:37.876549482</td>\n",
       "      <td>118115.49</td>\n",
       "    </tr>\n",
       "    <tr>\n",
       "      <th>27788</th>\n",
       "      <td>2025-08-10 08:40:40.866776943</td>\n",
       "      <td>118115.49</td>\n",
       "    </tr>\n",
       "  </tbody>\n",
       "</table>\n",
       "<p>27789 rows × 2 columns</p>\n",
       "</div>"
      ],
      "text/plain": [
       "                          timestamp      price\n",
       "0     2025-08-09 08:40:58.466971397  116938.02\n",
       "1     2025-08-09 08:40:58.867064476  116938.02\n",
       "2     2025-08-09 08:41:01.927594423  116938.03\n",
       "3     2025-08-09 08:41:04.900663614  116938.03\n",
       "4     2025-08-09 08:41:07.889091492  116938.02\n",
       "...                             ...        ...\n",
       "27784 2025-08-10 08:40:28.868560314  118115.49\n",
       "27785 2025-08-10 08:40:31.868561983  118115.49\n",
       "27786 2025-08-10 08:40:34.871923685  118115.49\n",
       "27787 2025-08-10 08:40:37.876549482  118115.49\n",
       "27788 2025-08-10 08:40:40.866776943  118115.49\n",
       "\n",
       "[27789 rows x 2 columns]"
      ]
     },
     "execution_count": 35,
     "metadata": {},
     "output_type": "execute_result"
    }
   ],
   "source": [
    "coinex_btc"
   ]
  },
  {
   "cell_type": "code",
   "execution_count": 38,
   "metadata": {},
   "outputs": [],
   "source": [
    "binance_btc[\"timestamp\"] = pd.to_datetime(binance_btc[\"timestamp\"], unit=\"ms\")"
   ]
  },
  {
   "cell_type": "code",
   "execution_count": 39,
   "metadata": {},
   "outputs": [
    {
     "data": {
      "text/html": [
       "<div>\n",
       "<style scoped>\n",
       "    .dataframe tbody tr th:only-of-type {\n",
       "        vertical-align: middle;\n",
       "    }\n",
       "\n",
       "    .dataframe tbody tr th {\n",
       "        vertical-align: top;\n",
       "    }\n",
       "\n",
       "    .dataframe thead th {\n",
       "        text-align: right;\n",
       "    }\n",
       "</style>\n",
       "<table border=\"1\" class=\"dataframe\">\n",
       "  <thead>\n",
       "    <tr style=\"text-align: right;\">\n",
       "      <th></th>\n",
       "      <th>timestamp</th>\n",
       "      <th>price</th>\n",
       "    </tr>\n",
       "  </thead>\n",
       "  <tbody>\n",
       "    <tr>\n",
       "      <th>0</th>\n",
       "      <td>2025-08-09 08:40:59.839</td>\n",
       "      <td>116920.4</td>\n",
       "    </tr>\n",
       "    <tr>\n",
       "      <th>1</th>\n",
       "      <td>2025-08-09 08:41:01.847</td>\n",
       "      <td>116920.3</td>\n",
       "    </tr>\n",
       "    <tr>\n",
       "      <th>2</th>\n",
       "      <td>2025-08-09 08:41:03.942</td>\n",
       "      <td>116920.4</td>\n",
       "    </tr>\n",
       "    <tr>\n",
       "      <th>3</th>\n",
       "      <td>2025-08-09 08:41:05.928</td>\n",
       "      <td>116920.4</td>\n",
       "    </tr>\n",
       "    <tr>\n",
       "      <th>4</th>\n",
       "      <td>2025-08-09 08:41:07.879</td>\n",
       "      <td>116920.3</td>\n",
       "    </tr>\n",
       "    <tr>\n",
       "      <th>...</th>\n",
       "      <td>...</td>\n",
       "      <td>...</td>\n",
       "    </tr>\n",
       "    <tr>\n",
       "      <th>43095</th>\n",
       "      <td>2025-08-10 08:40:37.527</td>\n",
       "      <td>118086.3</td>\n",
       "    </tr>\n",
       "    <tr>\n",
       "      <th>43096</th>\n",
       "      <td>2025-08-10 08:40:39.491</td>\n",
       "      <td>118090.4</td>\n",
       "    </tr>\n",
       "    <tr>\n",
       "      <th>43097</th>\n",
       "      <td>2025-08-10 08:40:41.123</td>\n",
       "      <td>118090.4</td>\n",
       "    </tr>\n",
       "    <tr>\n",
       "      <th>43098</th>\n",
       "      <td>2025-08-10 08:40:43.572</td>\n",
       "      <td>118090.4</td>\n",
       "    </tr>\n",
       "    <tr>\n",
       "      <th>43099</th>\n",
       "      <td>2025-08-10 08:40:45.437</td>\n",
       "      <td>118090.4</td>\n",
       "    </tr>\n",
       "  </tbody>\n",
       "</table>\n",
       "<p>43100 rows × 2 columns</p>\n",
       "</div>"
      ],
      "text/plain": [
       "                    timestamp     price\n",
       "0     2025-08-09 08:40:59.839  116920.4\n",
       "1     2025-08-09 08:41:01.847  116920.3\n",
       "2     2025-08-09 08:41:03.942  116920.4\n",
       "3     2025-08-09 08:41:05.928  116920.4\n",
       "4     2025-08-09 08:41:07.879  116920.3\n",
       "...                       ...       ...\n",
       "43095 2025-08-10 08:40:37.527  118086.3\n",
       "43096 2025-08-10 08:40:39.491  118090.4\n",
       "43097 2025-08-10 08:40:41.123  118090.4\n",
       "43098 2025-08-10 08:40:43.572  118090.4\n",
       "43099 2025-08-10 08:40:45.437  118090.4\n",
       "\n",
       "[43100 rows x 2 columns]"
      ]
     },
     "execution_count": 39,
     "metadata": {},
     "output_type": "execute_result"
    }
   ],
   "source": [
    "binance_btc"
   ]
  },
  {
   "cell_type": "code",
   "execution_count": 47,
   "metadata": {},
   "outputs": [
    {
     "data": {
      "text/plain": [
       "[<matplotlib.lines.Line2D at 0x28d59d1da90>]"
      ]
     },
     "execution_count": 47,
     "metadata": {},
     "output_type": "execute_result"
    },
    {
     "data": {
      "image/png": "[encoded data removed]",
      "text/plain": [
       "<Figure size 2000x700 with 1 Axes>"
      ]
     },
     "metadata": {},
     "output_type": "display_data"
    }
   ],
   "source": [
    "start = 0\n",
    "end = 400\n",
    "fee = 0.028/100\n",
    "\n",
    "fig, ax = plt.subplots(figsize=(20, 7))\n",
    "\n",
    "ax.plot(binance_btc.iloc[start:end][\"timestamp\"], binance_btc.iloc[start:end][\"price\"], label=\"binanc BTCUSDT\")\n",
    "ax.plot(coinex_btc[start:end][\"timestamp\"], coinex_btc.iloc[start:end][\"price\"], label=\"coinex BTCUSDT\")\n",
    "\n",
    "ax.plot(binance_btc.iloc[start:end])"
   ]
  },
  {
   "cell_type": "code",
   "execution_count": 49,
   "metadata": {},
   "outputs": [],
   "source": [
    "merged = pd.merge_asof(coinex_btc, binance_btc, on=\"timestamp\").bfill()"
   ]
  },
  {
   "cell_type": "code",
   "execution_count": 50,
   "metadata": {},
   "outputs": [
    {
     "data": {
      "text/html": [
       "<div>\n",
       "<style scoped>\n",
       "    .dataframe tbody tr th:only-of-type {\n",
       "        vertical-align: middle;\n",
       "    }\n",
       "\n",
       "    .dataframe tbody tr th {\n",
       "        vertical-align: top;\n",
       "    }\n",
       "\n",
       "    .dataframe thead th {\n",
       "        text-align: right;\n",
       "    }\n",
       "</style>\n",
       "<table border=\"1\" class=\"dataframe\">\n",
       "  <thead>\n",
       "    <tr style=\"text-align: right;\">\n",
       "      <th></th>\n",
       "      <th>timestamp</th>\n",
       "      <th>price_x</th>\n",
       "      <th>price_y</th>\n",
       "    </tr>\n",
       "  </thead>\n",
       "  <tbody>\n",
       "    <tr>\n",
       "      <th>0</th>\n",
       "      <td>2025-08-09 08:40:58.466971397</td>\n",
       "      <td>116938.02</td>\n",
       "      <td>116920.3</td>\n",
       "    </tr>\n",
       "    <tr>\n",
       "      <th>1</th>\n",
       "      <td>2025-08-09 08:40:58.867064476</td>\n",
       "      <td>116938.02</td>\n",
       "      <td>116920.3</td>\n",
       "    </tr>\n",
       "    <tr>\n",
       "      <th>2</th>\n",
       "      <td>2025-08-09 08:41:01.927594423</td>\n",
       "      <td>116938.03</td>\n",
       "      <td>116920.3</td>\n",
       "    </tr>\n",
       "    <tr>\n",
       "      <th>3</th>\n",
       "      <td>2025-08-09 08:41:04.900663614</td>\n",
       "      <td>116938.03</td>\n",
       "      <td>116920.4</td>\n",
       "    </tr>\n",
       "    <tr>\n",
       "      <th>4</th>\n",
       "      <td>2025-08-09 08:41:07.889091492</td>\n",
       "      <td>116938.02</td>\n",
       "      <td>116920.3</td>\n",
       "    </tr>\n",
       "    <tr>\n",
       "      <th>...</th>\n",
       "      <td>...</td>\n",
       "      <td>...</td>\n",
       "      <td>...</td>\n",
       "    </tr>\n",
       "    <tr>\n",
       "      <th>27784</th>\n",
       "      <td>2025-08-10 08:40:28.868560314</td>\n",
       "      <td>118115.49</td>\n",
       "      <td>118080.4</td>\n",
       "    </tr>\n",
       "    <tr>\n",
       "      <th>27785</th>\n",
       "      <td>2025-08-10 08:40:31.868561983</td>\n",
       "      <td>118115.49</td>\n",
       "      <td>118080.4</td>\n",
       "    </tr>\n",
       "    <tr>\n",
       "      <th>27786</th>\n",
       "      <td>2025-08-10 08:40:34.871923685</td>\n",
       "      <td>118115.49</td>\n",
       "      <td>118080.4</td>\n",
       "    </tr>\n",
       "    <tr>\n",
       "      <th>27787</th>\n",
       "      <td>2025-08-10 08:40:37.876549482</td>\n",
       "      <td>118115.49</td>\n",
       "      <td>118086.3</td>\n",
       "    </tr>\n",
       "    <tr>\n",
       "      <th>27788</th>\n",
       "      <td>2025-08-10 08:40:40.866776943</td>\n",
       "      <td>118115.49</td>\n",
       "      <td>118090.4</td>\n",
       "    </tr>\n",
       "  </tbody>\n",
       "</table>\n",
       "<p>27789 rows × 3 columns</p>\n",
       "</div>"
      ],
      "text/plain": [
       "                          timestamp    price_x   price_y\n",
       "0     2025-08-09 08:40:58.466971397  116938.02  116920.3\n",
       "1     2025-08-09 08:40:58.867064476  116938.02  116920.3\n",
       "2     2025-08-09 08:41:01.927594423  116938.03  116920.3\n",
       "3     2025-08-09 08:41:04.900663614  116938.03  116920.4\n",
       "4     2025-08-09 08:41:07.889091492  116938.02  116920.3\n",
       "...                             ...        ...       ...\n",
       "27784 2025-08-10 08:40:28.868560314  118115.49  118080.4\n",
       "27785 2025-08-10 08:40:31.868561983  118115.49  118080.4\n",
       "27786 2025-08-10 08:40:34.871923685  118115.49  118080.4\n",
       "27787 2025-08-10 08:40:37.876549482  118115.49  118086.3\n",
       "27788 2025-08-10 08:40:40.866776943  118115.49  118090.4\n",
       "\n",
       "[27789 rows x 3 columns]"
      ]
     },
     "execution_count": 50,
     "metadata": {},
     "output_type": "execute_result"
    }
   ],
   "source": [
    "merged"
   ]
  },
  {
   "cell_type": "code",
   "execution_count": 52,
   "metadata": {},
   "outputs": [
    {
     "data": {
      "text/plain": [
       "0        1.0\n",
       "1        1.0\n",
       "2        1.0\n",
       "3        1.0\n",
       "4        1.0\n",
       "        ... \n",
       "43095    1.0\n",
       "43096    1.0\n",
       "43097    1.0\n",
       "43098    1.0\n",
       "43099    1.0\n",
       "Name: price, Length: 43100, dtype: float64"
      ]
     },
     "execution_count": 52,
     "metadata": {},
     "output_type": "execute_result"
    }
   ],
   "source": [
    "binance_btc[\"price\"]/binance_btc[\"price\"]"
   ]
  },
  {
   "cell_type": "code",
   "execution_count": null,
   "metadata": {},
   "outputs": [],
   "source": []
  }
 ],
 "metadata": {
  "kernelspec": {
   "display_name": "venv",
   "language": "python",
   "name": "python3"
  },
  "language_info": {
   "codemirror_mode": {
    "name": "ipython",
    "version": 3
   },
   "file_extension": ".py",
   "mimetype": "text/x-python",
   "name": "python",
   "nbconvert_exporter": "python",
   "pygments_lexer": "ipython3",
   "version": "3.12.4"
  }
 },
 "nbformat": 4,
 "nbformat_minor": 2
}
