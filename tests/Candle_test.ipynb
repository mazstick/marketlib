{
 "cells": [
  {
   "cell_type": "code",
   "execution_count": 1,
   "metadata": {},
   "outputs": [],
   "source": [
    "from marketlib import data\n",
    "candle = data.Candle(\"2023.10.30 07:00\",2001.46,2002.57,1999.48,1999.61)"
   ]
  },
  {
   "cell_type": "code",
   "execution_count": 2,
   "metadata": {},
   "outputs": [
    {
     "name": "stdout",
     "output_type": "stream",
     "text": [
      "1.8500000000001364\n",
      "7\n",
      "True\n",
      "False\n",
      "-0.9158576051780678\n"
     ]
    },
    {
     "ename": "ValueError",
     "evalue": "For calculating MFV volume has not to be 0.0",
     "output_type": "error",
     "traceback": [
      "\u001b[31m---------------------------------------------------------------------------\u001b[39m",
      "\u001b[31mValueError\u001b[39m                                Traceback (most recent call last)",
      "\u001b[36mCell\u001b[39m\u001b[36m \u001b[39m\u001b[32mIn[2]\u001b[39m\u001b[32m, line 6\u001b[39m\n\u001b[32m      4\u001b[39m \u001b[38;5;28mprint\u001b[39m(candle.is_doji())\n\u001b[32m      5\u001b[39m \u001b[38;5;28mprint\u001b[39m(candle.money_flow_multiplier())\n\u001b[32m----> \u001b[39m\u001b[32m6\u001b[39m \u001b[38;5;28mprint\u001b[39m(\u001b[43mcandle\u001b[49m\u001b[43m.\u001b[49m\u001b[43mmoney_flow_volume\u001b[49m\u001b[43m(\u001b[49m\u001b[43m)\u001b[49m)\n",
      "\u001b[36mFile \u001b[39m\u001b[32mE:\\Work\\marketlib\\marketlib\\data\\Candle.py:145\u001b[39m, in \u001b[36mCandle.money_flow_volume\u001b[39m\u001b[34m(self)\u001b[39m\n\u001b[32m    140\u001b[39m \u001b[38;5;250m\u001b[39m\u001b[33;03m\"\"\"\u001b[39;00m\n\u001b[32m    141\u001b[39m \u001b[33;03mReturn the Money Flow Volume (MFV).\u001b[39;00m\n\u001b[32m    142\u001b[39m \u001b[33;03mCalculated as: MFM * volume\u001b[39;00m\n\u001b[32m    143\u001b[39m \u001b[33;03m\"\"\"\u001b[39;00m\n\u001b[32m    144\u001b[39m \u001b[38;5;28;01mif\u001b[39;00m \u001b[38;5;28mself\u001b[39m.volume == \u001b[32m0\u001b[39m:\n\u001b[32m--> \u001b[39m\u001b[32m145\u001b[39m     \u001b[38;5;28;01mraise\u001b[39;00m \u001b[38;5;167;01mValueError\u001b[39;00m(\u001b[33mf\u001b[39m\u001b[33m\"\u001b[39m\u001b[33mFor calculating MFV volume has not to be \u001b[39m\u001b[38;5;132;01m{\u001b[39;00m\u001b[38;5;28mself\u001b[39m.volume\u001b[38;5;132;01m}\u001b[39;00m\u001b[33m\"\u001b[39m)\n\u001b[32m    146\u001b[39m \u001b[38;5;28;01mreturn\u001b[39;00m \u001b[38;5;28mself\u001b[39m.money_flow_multiplier() * \u001b[38;5;28mself\u001b[39m.volume\n",
      "\u001b[31mValueError\u001b[39m: For calculating MFV volume has not to be 0.0"
     ]
    }
   ],
   "source": [
    "print(candle.body_size())\n",
    "print(candle.hour())\n",
    "print(candle.is_bearish())\n",
    "print(candle.is_doji())\n",
    "print(candle.money_flow_multiplier())\n",
    "print(candle.money_flow_volume())"
   ]
  },
  {
   "cell_type": "code",
   "execution_count": null,
   "metadata": {},
   "outputs": [],
   "source": []
  },
  {
   "cell_type": "code",
   "execution_count": null,
   "metadata": {},
   "outputs": [],
   "source": []
  }
 ],
 "metadata": {
  "kernelspec": {
   "display_name": "venv",
   "language": "python",
   "name": "python3"
  },
  "language_info": {
   "codemirror_mode": {
    "name": "ipython",
    "version": 3
   },
   "file_extension": ".py",
   "mimetype": "text/x-python",
   "name": "python",
   "nbconvert_exporter": "python",
   "pygments_lexer": "ipython3",
   "version": "3.12.4"
  }
 },
 "nbformat": 4,
 "nbformat_minor": 2
}
