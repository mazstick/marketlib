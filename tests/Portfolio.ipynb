{
 "cells": [
  {
   "cell_type": "code",
   "execution_count": 2,
   "id": "dda15752",
   "metadata": {},
   "outputs": [],
   "source": [
    "from marketlib.backtest import Portfolio\n",
    "import pandas as pd\n",
    "from datetime import datetime"
   ]
  },
  {
   "cell_type": "code",
   "execution_count": 3,
   "id": "08bbe21c",
   "metadata": {},
   "outputs": [],
   "source": [
    "portfo = Portfolio(1000)\n",
    "portfo.open_position(\"BTCUSDT\", \"long\", 0.00001, 112000, pd.Timestamp(year=2025, month=10, day=6, hour=1, minute=12))"
   ]
  },
  {
   "cell_type": "code",
   "execution_count": 4,
   "id": "ee1adb29",
   "metadata": {},
   "outputs": [],
   "source": [
    "pos = portfo.positions[0]"
   ]
  },
  {
   "cell_type": "code",
   "execution_count": 5,
   "id": "2957d4f4",
   "metadata": {},
   "outputs": [
    {
     "data": {
      "text/plain": [
       "{'market': 'BTCUSDT',\n",
       " 'side': 'long',\n",
       " 'dir': 1,\n",
       " 'size': 1e-05,\n",
       " 'entry_price': 112000.0,\n",
       " 'entry_time': Timestamp('2025-10-06 01:12:00'),\n",
       " 'stop': None,\n",
       " 'tp': None,\n",
       " 'highest': 112000,\n",
       " 'lowest': 112000,\n",
       " 'fee_in': 0.0,\n",
       " 'fee_out_cum': 0.0,\n",
       " 'realized_pnl': -0.0,\n",
       " 'closed': False,\n",
       " 'exit_price': None,\n",
       " 'exit_time': None,\n",
       " 'exit_reason': None,\n",
       " 'mfe_R': 0.0,\n",
       " 'mae_R': 0.0,\n",
       " 'mfe_cur': 0.0,\n",
       " 'mae_cur': 0.0,\n",
       " 'risk_per_unit': None,\n",
       " 'risk_amount': None,\n",
       " 'targets': [],\n",
       " 'orders': [{'side': 'buy',\n",
       "   'amount': 1e-05,\n",
       "   'price': 112000,\n",
       "   'order_type': 'market',\n",
       "   'timestamp': Timestamp('2025-10-06 01:12:00'),\n",
       "   'status': 'filled',\n",
       "   'filled_quantity': 1e-05,\n",
       "   'avg_fill_price': 112000,\n",
       "   'fee': 0.0,\n",
       "   'comment': '',\n",
       "   'fill_time': Timestamp('2025-10-06 01:12:00'),\n",
       "   'fill_reason': 'init position order',\n",
       "   'position_id': '1971002150'}]}"
      ]
     },
     "execution_count": 5,
     "metadata": {},
     "output_type": "execute_result"
    }
   ],
   "source": [
    "pos.to_dict()"
   ]
  },
  {
   "cell_type": "code",
   "execution_count": null,
   "id": "0b575d82",
   "metadata": {},
   "outputs": [
    {
     "name": "stdout",
     "output_type": "stream",
     "text": [
      "1e-05\n"
     ]
    }
   ],
   "source": [
    "pos.entry_price\n",
    "pos.entry_time\n",
    "pos.contract_value\n",
    "pos.exit_price\n",
    "pos.fee_in\n",
    "pos.lowest\n",
    "pos.highest\n",
    "pos.is_open\n",
    "pos.mae_R\n",
    "pos.mfe_R\n",
    "pos.market\n",
    "pos.risk_amount\n",
    "pos.side\n",
    "pos.size"
   ]
  },
  {
   "cell_type": "code",
   "execution_count": null,
   "id": "94825812",
   "metadata": {},
   "outputs": [],
   "source": []
  }
 ],
 "metadata": {
  "kernelspec": {
   "display_name": "market_venv (3.12.4)",
   "language": "python",
   "name": "python3"
  },
  "language_info": {
   "codemirror_mode": {
    "name": "ipython",
    "version": 3
   },
   "file_extension": ".py",
   "mimetype": "text/x-python",
   "name": "python",
   "nbconvert_exporter": "python",
   "pygments_lexer": "ipython3",
   "version": "3.12.4"
  }
 },
 "nbformat": 4,
 "nbformat_minor": 5
}
